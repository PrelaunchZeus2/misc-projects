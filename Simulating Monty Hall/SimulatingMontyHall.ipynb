{
 "cells": [
  {
   "cell_type": "markdown",
   "metadata": {},
   "source": [
    "# The Monty Hall Problem, Simulated.\n",
    "## By John 'IVYsalmon' Salmon"
   ]
  },
  {
   "cell_type": "markdown",
   "metadata": {},
   "source": [
    "#### Introduction.\n",
    "My first introduction to this problem was from the movie 21 where the main character was challenged with it by a statistics professor. The movie was certainly not my favorite but ever since that scene I was interested in the solution and tried to figure it out with out looking up the answer. By nature the problem is a veridical paradox meaning that the solution is counterintuitive and difficult to understand. I definitely encountered this as I was reasoning through it in my head.\n",
    "\n",
    "The problem goes like this:\n",
    "You are invited to a game show with a simple set of rules. There are three doors on the stage, behind two of them are goats and behind the last door is a car. If you pick the door with the car you win, if you pick one of the goats you lose. You don't know which items are behind which doors, and there is no possible way to figure it out. It is entirely a game of chance. At the start of the game the host invites you to pick a door. Once you have locked in your answer the host then reveals one of the other two doors. The door they reveal will always have a goat behind it, they will never ruin the game by revealing the car and putting you in an unwinnable situation. After they reveal a door you are offered the chance to swap from the initial door you selected to the remaining door. The question behind the problem is, **Is it better to swap doors or keep your original selection?***\n",
    "\n",
    "Reasoning our way through it, we can recognize that our original selection has a 1/3 chance of winning as 1 of the 3 doors has the car behind it. Once the host reveals one of the goats the chances of winning go down to 1/2 because now one of the two doors has the goat behind it. So surely there is no difference between swapping and staying right?"
   ]
  },
  {
   "cell_type": "markdown",
   "metadata": {},
   "source": [
    "#### Setup"
   ]
  },
  {
   "cell_type": "code",
   "execution_count": null,
   "metadata": {},
   "outputs": [
    {
     "ename": "",
     "evalue": "",
     "output_type": "error",
     "traceback": [
      "\u001b[1;31mThe kernel failed to start as the Python Environment '.venv (Python 3.12.5)' is no longer available. Consider selecting another kernel or refreshing the list of Python Environments."
     ]
    }
   ],
   "source": [
    "%pip install -q pandas matplotlib seaborn tqdm Pillow IPython\n"
   ]
  },
  {
   "cell_type": "code",
   "execution_count": 2,
   "metadata": {},
   "outputs": [],
   "source": [
    "import random\n",
    "import concurrent.futures\n",
    "from tqdm import tqdm\n",
    "import csv\n",
    "import pandas as pd\n",
    "import matplotlib.pyplot as plt\n",
    "import seaborn as sns\n",
    "import os"
   ]
  },
  {
   "cell_type": "markdown",
   "metadata": {},
   "source": [
    "For this simulation there are a few required libraries that don't come with python.\n",
    "pandas - used for its dataframe management allowing for easier management and modelling of results\n",
    "matplotlib - graphing\n",
    "seaborn - graphing\n",
    "tqdm - creates a cool progress bar for reassurance that the program is actually doing something (1 billion results takes a long time...)"
   ]
  },
  {
   "cell_type": "code",
   "execution_count": 3,
   "metadata": {},
   "outputs": [
    {
     "name": "stdout",
     "output_type": "stream",
     "text": [
      "Starting simulation with 1000000 trials\n"
     ]
    },
    {
     "name": "stderr",
     "output_type": "stream",
     "text": [
      "100%|██████████| 10000/10000 [00:16<00:00, 617.75it/s]"
     ]
    },
    {
     "name": "stdout",
     "output_type": "stream",
     "text": [
      "Successfully simulated 1000000 trials\n"
     ]
    },
    {
     "name": "stderr",
     "output_type": "stream",
     "text": [
      "\n"
     ]
    }
   ],
   "source": [
    "doorOptions = ['goat', 'goat', 'car']\n",
    "strategy = ['stay', 'swap']\n",
    "\n",
    "NUMTRIALS = int(1000000)  # Reduced for demonstration purposes\n",
    "CHUNK_SIZE = 100  # Number of tasks to submit at once\n",
    "NUM_CORES = os.cpu_count()\n",
    "results = []\n",
    "\n",
    "def run_trial(trial_num):\n",
    "    doors = doorOptions.copy()\n",
    "    strat = random.choice(strategy)\n",
    "    if strat == 'stay':\n",
    "        initial_choice = random.choice(doors)  # choose door\n",
    "        doors.remove(initial_choice)  # remove chosen door\n",
    "        doors.remove('goat')  # Monty Hall reveals a goat\n",
    "        remaining = doors[0]  # the remaining door\n",
    "        if remaining == 'car':  # the remaining door is a car which was not chosen\n",
    "            outcome = 'Lose'\n",
    "        else:  # the remaining choice was a goat so the initial choice was the car\n",
    "            outcome = 'Win'\n",
    "    elif strat == 'swap':\n",
    "        initial_choice = random.choice(doors)  # choose door\n",
    "        doors.remove('goat')  # Monty Hall reveals a goat\n",
    "        doors.remove(initial_choice)  # remove the initial choice, the remaining item is our new choice\n",
    "        remaining = doors[0]\n",
    "        if remaining == 'car':  # choice is the car\n",
    "            outcome = 'Win'\n",
    "        else:  # choice is the goat\n",
    "            outcome = 'Lose'\n",
    "    else:\n",
    "        raise ValueError('Invalid Strategy')\n",
    "\n",
    "    trial_info = {\n",
    "        'initial_choice': initial_choice,\n",
    "        'remaining': remaining,\n",
    "        'outcome': outcome,\n",
    "        'strategy': strat\n",
    "    }\n",
    "    return trial_info\n",
    "\n",
    "# Use ThreadPoolExecutor to run trials in parallel\n",
    "with concurrent.futures.ThreadPoolExecutor(max_workers = NUM_CORES - 1) as executor:  # Adjust max_workers as needed\n",
    "    print('Starting simulation with', NUMTRIALS, 'trials')\n",
    "    with open('MontyHallResults.csv', 'w', newline='') as f:\n",
    "        writer = csv.writer(f)\n",
    "        writer.writerow(['strategy', 'initial_choice', 'remaining', 'outcome'])  # Write header\n",
    "\n",
    "        for i in tqdm(range(0, NUMTRIALS, CHUNK_SIZE)):\n",
    "            chunk_futures = [executor.submit(run_trial, j) for j in range(i, min(i + CHUNK_SIZE, NUMTRIALS))]\n",
    "            chunk_results = []\n",
    "            for future in concurrent.futures.as_completed(chunk_futures):\n",
    "                result = future.result()\n",
    "                chunk_results.append([result['strategy'], result['initial_choice'], result['remaining'], result['outcome']])\n",
    "            writer.writerows(chunk_results)  # Write results in batches\n",
    "\n",
    "print('Successfully simulated', NUMTRIALS, 'trials')"
   ]
  },
  {
   "cell_type": "markdown",
   "metadata": {},
   "source": [
    "The code above looks"
   ]
  },
  {
   "cell_type": "markdown",
   "metadata": {},
   "source": [
    "#### Plot Results"
   ]
  },
  {
   "cell_type": "code",
   "execution_count": 5,
   "metadata": {},
   "outputs": [],
   "source": [
    "from matplotlib.animation import FuncAnimation, PillowWriter\n",
    "from IPython.display import HTML\n",
    "\n",
    "\n",
    "# Load the data\n",
    "mh = pd.read_csv('MontyHallResults.csv')\n",
    "swapped = mh[mh['strategy'] == 'swap']\n",
    "stayed = mh[mh['strategy'] == 'stay']\n",
    "\n",
    "# Set up the figure and axis\n",
    "fig, ax = plt.subplots(figsize=(10, 6))\n",
    "\n",
    "# Initialize the plot\n",
    "def init():\n",
    "    sns.countplot(x='outcome', data=mh, hue='strategy', ax=ax)\n",
    "    ax.set_title('Monty Hall Simulation')\n",
    "    return ax,\n",
    "\n",
    "# Update the plot for each frame\n",
    "def update(frame):\n",
    "    ax.clear()\n",
    "    sns.countplot(x='outcome', data=mh.iloc[:frame], hue='strategy', ax=ax)\n",
    "    ax.set_title('Monty Hall Simulation')\n",
    "    return ax,\n",
    "\n",
    "# Create the animation\n",
    "ani = FuncAnimation(fig, update, frames=range(1, len(mh)+1), init_func=init, interval=100, repeat=True)\n",
    "\n",
    "# Save the animation as a GIF\n",
    "ani.save('MontyHallSimulation.gif', writer=PillowWriter(fps=10))\n",
    "\n",
    "# Display the animation in the notebook\n",
    "HTML(ani.to_jshtml())"
   ]
  }
 ],
 "metadata": {
  "kernelspec": {
   "display_name": ".venv",
   "language": "python",
   "name": "python3"
  },
  "language_info": {
   "codemirror_mode": {
    "name": "ipython",
    "version": 3
   },
   "file_extension": ".py",
   "mimetype": "text/x-python",
   "name": "python",
   "nbconvert_exporter": "python",
   "pygments_lexer": "ipython3",
   "version": "3.12.5"
  }
 },
 "nbformat": 4,
 "nbformat_minor": 2
}
